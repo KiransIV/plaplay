{
    "cells": [
        {
            "cell_type": "markdown",
            "metadata": {},
            "source": [
                "You are going to be given a word. Your job is to return the middle character of the word. If the word's length is odd, return the middle character. If the word's length is even, return the middle 2 characters.\n",
                "\n",
                "Kata.getMiddle(\"test\") should return \"es\"\n",
                "\n",
                "Kata.getMiddle(\"testing\") should return \"t\"\n",
                "\n",
                "Kata.getMiddle(\"middle\") should return \"dd\"\n",
                "\n",
                "Kata.getMiddle(\"A\") should return \"A\""
            ]
        },
        {
            "cell_type": "code",
            "execution_count": 26,
            "metadata": {},
            "outputs": [
                {
                    "data": {
                        "text/plain": [
                            "'of'"
                        ]
                    },
                    "execution_count": 26,
                    "metadata": {},
                    "output_type": "execute_result"
                }
            ],
            "source": [
                "def get_middle(s):\n",
                "    if len(s) % 2 == 1:\n",
                "        return s[int((len(s)/2))]\n",
                "    else:\n",
                "        return s[int(((len(s)/2 - 1)))] + s[int((len(s)/2))]\n",
                "\n",
                "get_middle(\"of\")\n"
            ]
        },
        {
            "cell_type": "code",
            "execution_count": 14,
            "metadata": {},
            "outputs": [
                {
                    "name": "stdout",
                    "output_type": "stream",
                    "text": [
                        "5\n"
                    ]
                }
            ],
            "source": [
                "def get_middle(s):\n",
                "   return s[(len(s)-1)/2:len(s)/2+1]"
            ]
        },
        {
            "cell_type": "code",
            "execution_count": null,
            "metadata": {},
            "outputs": [],
            "source": [
                "def get_middle(s):\n",
                "    index, odd = divmod(len(s), 2)\n",
                "    return s[index] if odd else s[index - 1:index + 1]"
            ]
        }
    ],
    "metadata": {
        "interpreter": {
            "hash": "42588fd11209419b7c81abe23e31a1d2101f60811b02170c268e57ebb57d5d9a"
        },
        "kernelspec": {
            "display_name": "Python 3.8.8 64-bit (conda)",
            "name": "python3"
        },
        "language_info": {
            "codemirror_mode": {
                "name": "ipython",
                "version": 3
            },
            "file_extension": ".py",
            "mimetype": "text/x-python",
            "name": "python",
            "nbconvert_exporter": "python",
            "pygments_lexer": "ipython3",
            "version": "3.8.8"
        },
        "orig_nbformat": 4
    },
    "nbformat": 4,
    "nbformat_minor": 2
}
