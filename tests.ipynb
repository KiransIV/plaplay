{
 "metadata": {
  "language_info": {
   "codemirror_mode": {
    "name": "ipython",
    "version": 3
   },
   "file_extension": ".py",
   "mimetype": "text/x-python",
   "name": "python",
   "nbconvert_exporter": "python",
   "pygments_lexer": "ipython3",
   "version": "3.8.8"
  },
  "orig_nbformat": 4,
  "kernelspec": {
   "name": "python3",
   "display_name": "Python 3.8.8 64-bit ('base': conda)"
  },
  "interpreter": {
   "hash": "42588fd11209419b7c81abe23e31a1d2101f60811b02170c268e57ebb57d5d9a"
  }
 },
 "nbformat": 4,
 "nbformat_minor": 2,
 "cells": [
  {
   "cell_type": "code",
   "execution_count": null,
   "metadata": {},
   "outputs": [],
   "source": [
    "#Rock Paper Scissors\n",
    "\n",
    "import random\n",
    "\n",
    "def play():\n",
    "    user = input(\"What is your choice: 'r' for rock, 'p' for paper, 's' for scissors :\")\n",
    "    computer = random.choice(['r','p','s'])\n",
    "    print(f\"You chose {user}, Opponent chose {computer}\")\n",
    "\n",
    "    if user == computer:\n",
    "        return 'A Tie'\n",
    "\n",
    "    if is_win(user, computer):\n",
    "        return 'You Win'\n",
    "    return 'You lost'\n",
    "\n",
    "def is_win(player, opponent):\n",
    "    if(player == 'r' and opponent == 's') or (player == 's' and opponent == 'p') \\\n",
    "        or (player == 'p' and opponent == 'r'):\n",
    "        return True\n",
    "\n",
    "print(play())\n",
    "\n"
   ]
  },
  {
   "cell_type": "code",
   "execution_count": 2,
   "metadata": {},
   "outputs": [
    {
     "output_type": "stream",
     "name": "stdout",
     "text": [
      "You have 6 lives. You have used the letters: \n",
      "Current Word:  - - - - - - - - - - -\n",
      "Your letter is not in the word\n",
      "You have 5 lives. You have used the letters: A\n",
      "Current Word:  - - - - - - - - - - -\n",
      "You have 5 lives. You have used the letters: A O\n",
      "Current Word:  - - - - - - - - O - -\n",
      "You have 5 lives. You have used the letters: A I O\n",
      "Current Word:  I - - - - - - I O - -\n",
      "You have 5 lives. You have used the letters: N A I O\n",
      "Current Word:  I N - - - - - I O - -\n",
      "You have 5 lives. You have used the letters: O N I A D\n",
      "Current Word:  I N D - - - - I O - -\n",
      "Your letter is not in the word\n",
      "You have 4 lives. You have used the letters: C O N I A D\n",
      "Current Word:  I N D - - - - I O - -\n",
      "You have 4 lives. You have used the letters: C O U N I A D\n",
      "Current Word:  I N D U - - - I O U -\n",
      "You have 4 lives. You have used the letters: C O U N I A S D\n",
      "Current Word:  I N D U S - - I O U S\n",
      "You have 4 lives. You have used the letters: C O U T N I A S D\n",
      "Current Word:  I N D U S T - I O U S\n",
      "You guessed the word INDUSTRIOUS !!\n"
     ]
    }
   ],
   "source": [
    "#Hangman\n",
    "import random\n",
    "from words import words\n",
    "import string\n",
    "\n",
    "\n",
    "def get_valid_words(words):\n",
    "    word = random.choice(words)\n",
    "    while '-' in word or ' ' in word:\n",
    "        word = random.choice(words)\n",
    "    \n",
    "    return word.upper()\n",
    "\n",
    "def hangman():\n",
    "    word = get_valid_words(words)\n",
    "    word_letters = set(word)\n",
    "    alphabet = set(string.ascii_uppercase)\n",
    "    used_letters = set()\n",
    "    lives  = 6\n",
    "\n",
    "    #getting user input\n",
    "    while len(word_letters) > 0 and lives > 0:\n",
    "        print('You have', lives, 'lives. You have used the letters:', ' '.join(used_letters))\n",
    "\n",
    "        word_list  = [letter if letter in used_letters else '-' for letter in word]\n",
    "        print('Current Word: ',' '.join(word_list))\n",
    "\n",
    "        user_letter = input('Guess a letter: ').upper()\n",
    "        if user_letter in alphabet - used_letters:\n",
    "            used_letters.add(user_letter)\n",
    "            if user_letter in word_letters:\n",
    "                word_letters.remove(user_letter)\n",
    "\n",
    "            else:\n",
    "                lives = lives - 1\n",
    "                print('Your letter is not in the word')\n",
    "                \n",
    "\n",
    "        elif user_letter in used_letters:\n",
    "            print('You have already used that character. Try again')\n",
    "\n",
    "        else:\n",
    "            print('Invalid Character. Try again')\n",
    "\n",
    "    if lives == 0:\n",
    "        print('End of lives. The word was', word)\n",
    "    else:\n",
    "        print('You guessed the word', word, '!!')\n",
    "\n",
    "\n",
    "\n",
    "hangman()\n"
   ]
  },
  {
   "cell_type": "code",
   "execution_count": null,
   "metadata": {},
   "outputs": [],
   "source": []
  }
 ]
}