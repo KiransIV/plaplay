{
 "cells": [
  {
   "cell_type": "markdown",
   "metadata": {},
   "source": [
    "Well met with Fibonacci bigger brother, AKA Tribonacci.\n",
    "\n",
    "As the name may already reveal, it works basically like a Fibonacci, but summing the last 3 (instead of 2) numbers of the sequence to generate the next. And, worse part of it, regrettably I won't get to hear non-native Italian speakers trying to pronounce it :(\n",
    "\n",
    "So, if we are to start our Tribonacci sequence with [1, 1, 1] as a starting input (AKA signature), we have this sequence:\n",
    "\n",
    "[1, 1 ,1, 3, 5, 9, 17, 31, ...]\n",
    "But what if we started with [0, 0, 1] as a signature? As starting with [0, 1] instead of [1, 1] basically shifts the common Fibonacci sequence by once place, you may be tempted to think that we would get the same sequence shifted by 2 places, but that is not the case and we would get:\n",
    "\n",
    "[0, 0, 1, 1, 2, 4, 7, 13, 24, ...]\n",
    "Well, you may have guessed it by now, but to be clear: you need to create a fibonacci function that given a signature array/list, returns the first n elements - signature included of the so seeded sequence.\n",
    "\n",
    "Signature will always contain 3 numbers; n will always be a non-negative number; if n == 0, then return an empty array (except in C return NULL) and be ready for anything else which is not clearly specified ;)"
   ]
  },
  {
   "cell_type": "code",
   "execution_count": 49,
   "metadata": {},
   "outputs": [
    {
     "data": {
      "text/plain": [
       "[1, 0, 1, 2]"
      ]
     },
     "execution_count": 49,
     "metadata": {},
     "output_type": "execute_result"
    }
   ],
   "source": [
    "def tribonacci(signature, n):\n",
    "    newList= []\n",
    "    newSignature = signature\n",
    "    newList.extend(newSignature)\n",
    "    count =  0\n",
    "    if(n == 0):\n",
    "        return []\n",
    "    elif (n == 1):\n",
    "        return sum(signature)\n",
    "    else:\n",
    "        while count < n - len(signature):\n",
    "            nextSequence = sum(newSignature)\n",
    "            newList.append(nextSequence)\n",
    "            newSignature = newList[count+1:]\n",
    "            count += 1\n",
    "    return newList\n",
    "\n",
    "tribonacci([1,0,1], 4)"
   ]
  },
  {
   "cell_type": "code",
   "execution_count": 60,
   "metadata": {},
   "outputs": [
    {
     "name": "stdout",
     "output_type": "stream",
     "text": [
      "[1]\n"
     ]
    }
   ],
   "source": [
    "newList= [0,1]\n",
    "newSignature = [1,1,1]\n",
    "x= []\n",
    "\n",
    "newList.extend(newSignature)\n",
    "x = newList[1:]\n",
    "print (newSignature[:-2])"
   ]
  },
  {
   "cell_type": "code",
   "execution_count": null,
   "metadata": {},
   "outputs": [],
   "source": [
    "def tribonacci(signature, n):\n",
    "    newList= []\n",
    "    newSignature = signature\n",
    "    newList.extend(newSignature)\n",
    "    count =  0\n",
    "    if(n == 0):\n",
    "        return []\n",
    "    elif (n == 1):\n",
    "        return signature[:-2]\n",
    "    elif (n == 2):\n",
    "        return signature[:-1]\n",
    "    else:\n",
    "        while count < n - len(signature):\n",
    "            nextSequence = sum(newSignature)\n",
    "            newList.append(nextSequence)\n",
    "            newSignature = newList[count+1:]\n",
    "            count += 1\n",
    "    return newList\n",
    "\n",
    "    tribonacci([1,0,1], 4)"
   ]
  },
  {
   "cell_type": "code",
   "execution_count": 63,
   "metadata": {},
   "outputs": [
    {
     "data": {
      "text/plain": [
       "[1, 0, 1, 2]"
      ]
     },
     "execution_count": 63,
     "metadata": {},
     "output_type": "execute_result"
    }
   ],
   "source": [
    "def tribonacci(signature, n):\n",
    "  res = signature[:n]\n",
    "  for i in range(n - 3): res.append(sum(res[-3:]))\n",
    "  return res\n",
    "\n",
    "\n",
    "tribonacci([1,0,1], 4)"
   ]
  },
  {
   "cell_type": "code",
   "execution_count": null,
   "metadata": {},
   "outputs": [],
   "source": [
    "def tribonacci(signature,n):\n",
    "    while len(signature) < n:\n",
    "        signature.append(sum(signature[-3:]))\n",
    "    \n",
    "    return signature[:n]"
   ]
  },
  {
   "cell_type": "code",
   "execution_count": null,
   "metadata": {},
   "outputs": [],
   "source": []
  }
 ],
 "metadata": {
  "interpreter": {
   "hash": "42588fd11209419b7c81abe23e31a1d2101f60811b02170c268e57ebb57d5d9a"
  },
  "kernelspec": {
   "display_name": "Python 3.8.8 64-bit ('USER': virtualenv)",
   "name": "python3"
  },
  "language_info": {
   "codemirror_mode": {
    "name": "ipython",
    "version": 3
   },
   "file_extension": ".py",
   "mimetype": "text/x-python",
   "name": "python",
   "nbconvert_exporter": "python",
   "pygments_lexer": "ipython3",
   "version": "3.8.8"
  },
  "orig_nbformat": 4
 },
 "nbformat": 4,
 "nbformat_minor": 2
}
