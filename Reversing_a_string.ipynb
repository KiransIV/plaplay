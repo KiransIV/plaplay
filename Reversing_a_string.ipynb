{
    "cells": [
        {
            "cell_type": "code",
            "execution_count": 28,
            "source": [
                "#to reverse a string\r\n",
                "#take string input \r\n",
                "#split the characters into a list\r\n",
                "#print the list from the last element\r\n",
                "#combine list elements back to one string\r\n",
                "\r\n",
                "\r\n",
                "myString = str(input(\"Enter a word\"))\r\n",
                "x = len(myString)\r\n",
                "stringList = []\r\n",
                "counter = 0\r\n",
                "newString = \"\"\r\n",
                "while counter < x:\r\n",
                "    stringList.append(myString[counter])\r\n",
                "    counter = counter + 1\r\n",
                " \r\n",
                "stringList.reverse()\r\n",
                "for i in stringList:\r\n",
                "    newString += str(i) + \"\"\r\n",
                "print(newString)\r\n",
                "\r\n"
            ],
            "outputs": [
                {
                    "output_type": "stream",
                    "name": "stdout",
                    "text": [
                        "dlrow\n"
                    ]
                }
            ],
            "metadata": {}
        },
        {
            "cell_type": "code",
            "execution_count": 33,
            "source": [
                "def solution(string):\r\n",
                "    x = len(string)\r\n",
                "    stringList = []\r\n",
                "    counter = 0\r\n",
                "    newString = \"\"\r\n",
                "    while counter < x:\r\n",
                "        stringList.append(string[counter])\r\n",
                "        counter = counter + 1\r\n",
                "    stringList.reverse()\r\n",
                "    for i in stringList:\r\n",
                "        newString += str(i) + \"\"\r\n",
                "    return newString\r\n",
                "\r\n",
                "\r\n",
                "string = \"world\"\r\n",
                "solution(string)"
            ],
            "outputs": [
                {
                    "output_type": "execute_result",
                    "data": {
                        "text/plain": [
                            "'dlrow'"
                        ]
                    },
                    "metadata": {},
                    "execution_count": 33
                }
            ],
            "metadata": {}
        },
        {
            "cell_type": "code",
            "execution_count": 34,
            "source": [
                "def solution(string):\r\n",
                "    x = len(string)\r\n",
                "    stringList = []\r\n",
                "    counter = 0\r\n",
                "    newString = \"\"\r\n",
                "    while counter < x:\r\n",
                "        stringList.append(string[counter])\r\n",
                "        counter = counter + 1\r\n",
                "    stringList.reverse()\r\n",
                "    return (\"\".join(stringList))\r\n",
                "\r\n",
                "\r\n",
                "string = \"world\"\r\n",
                "solution(string)"
            ],
            "outputs": [
                {
                    "output_type": "execute_result",
                    "data": {
                        "text/plain": [
                            "'dlrow'"
                        ]
                    },
                    "metadata": {},
                    "execution_count": 34
                }
            ],
            "metadata": {}
        },
        {
            "cell_type": "code",
            "execution_count": 35,
            "source": [
                "myString = str(input(\"Enter a word\"))\r\n",
                "print(myString[::-1])"
            ],
            "outputs": [
                {
                    "output_type": "stream",
                    "name": "stdout",
                    "text": [
                        "dlrow\n"
                    ]
                }
            ],
            "metadata": {}
        },
        {
            "cell_type": "code",
            "execution_count": 37,
            "source": [
                "def solution(string):\r\n",
                "    stringList = list(string)\r\n",
                "    stringList.reverse()\r\n",
                "    return (\"\".join(stringList))\r\n",
                "\r\n",
                "string = \"world\"\r\n",
                "solution(string)"
            ],
            "outputs": [
                {
                    "output_type": "execute_result",
                    "data": {
                        "text/plain": [
                            "'dlrow'"
                        ]
                    },
                    "metadata": {},
                    "execution_count": 37
                }
            ],
            "metadata": {}
        },
        {
            "cell_type": "code",
            "execution_count": null,
            "source": [],
            "outputs": [],
            "metadata": {}
        }
    ],
    "metadata": {
        "orig_nbformat": 4,
        "language_info": {
            "name": "python",
            "version": "3.8.8",
            "mimetype": "text/x-python",
            "codemirror_mode": {
                "name": "ipython",
                "version": 3
            },
            "pygments_lexer": "ipython3",
            "nbconvert_exporter": "python",
            "file_extension": ".py"
        },
        "kernelspec": {
            "name": "python3",
            "display_name": "Python 3.8.8 64-bit ('USER': virtualenv)"
        },
        "interpreter": {
            "hash": "42588fd11209419b7c81abe23e31a1d2101f60811b02170c268e57ebb57d5d9a"
        }
    },
    "nbformat": 4,
    "nbformat_minor": 2
}