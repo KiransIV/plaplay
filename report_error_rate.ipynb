{
 "cells": [
  {
   "cell_type": "markdown",
   "metadata": {},
   "source": [
    "In a factory a printer prints labels for boxes. For one kind of boxes the printer has to use colors which, for the sake of simplicity, are named with letters from a to m.\n",
    "\n",
    "The colors used by the printer are recorded in a control string. For example a \"good\" control string would be aaabbbbhaijjjm meaning that the printer used three times color a, four times color b, one time color h then one time color a...\n",
    "\n",
    "Sometimes there are problems: lack of colors, technical malfunction and a \"bad\" control string is produced e.g. aaaxbbbbyyhwawiwjjjwwm with letters not from a to m.\n",
    "\n",
    "You have to write a function printer_error which given a string will return the error rate of the printer as a string representing a rational whose numerator is the number of errors and the denominator the length of the control string. Don't reduce this fraction to a simpler expression.\n",
    "\n",
    "The string has a length greater or equal to one and contains only letters from ato z.\n",
    "\n",
    "Examples:\n",
    "s=\"aaabbbbhaijjjm\"\n",
    "printer_error(s) => \"0/14\"\n",
    "\n",
    "s=\"aaaxbbbbyyhwawiwjjjwwm\"\n",
    "printer_error(s) => \"8/22\""
   ]
  },
  {
   "cell_type": "code",
   "execution_count": 43,
   "metadata": {},
   "outputs": [
    {
     "data": {
      "text/plain": [
       "'8/22'"
      ]
     },
     "execution_count": 43,
     "metadata": {},
     "output_type": "execute_result"
    }
   ],
   "source": [
    "import string\n",
    "\n",
    "def printer_error(s):\n",
    "    ss = string.ascii_lowercase[:13]\n",
    "    count = 0\n",
    "    l = len(s)\n",
    "    for i in s:\n",
    "        if i not in ss:\n",
    "            count +=1\n",
    "    error = f\"{count}/{len(s)}\"\n",
    "    return error\n",
    "    \n",
    "\n",
    "printer_error('aaaxbbbbyyhwawiwjjjwwm')\n"
   ]
  },
  {
   "cell_type": "code",
   "execution_count": null,
   "metadata": {},
   "outputs": [],
   "source": [
    "from re import sub\n",
    "def printer_error(s):\n",
    "    return \"{}/{}\".format(len(sub(\"[a-m]\",'',s)),len(s))"
   ]
  },
  {
   "cell_type": "code",
   "execution_count": null,
   "metadata": {},
   "outputs": [],
   "source": [
    "def printer_error(s):\n",
    "    return \"{}/{}\".format(len([x for x in s if x not in \"abcdefghijklm\"]), len(s))"
   ]
  },
  {
   "cell_type": "code",
   "execution_count": 6,
   "metadata": {},
   "outputs": [
    {
     "data": {
      "text/plain": [
       "4"
      ]
     },
     "execution_count": 6,
     "metadata": {},
     "output_type": "execute_result"
    }
   ],
   "source": [
    "def century(year):\n",
    "    c = int((year/100)+1)\n",
    "    return c\n",
    "\n",
    "century(333)\n",
    "\n"
   ]
  },
  {
   "cell_type": "code",
   "execution_count": 7,
   "metadata": {},
   "outputs": [
    {
     "data": {
      "text/plain": [
       "0"
      ]
     },
     "execution_count": 7,
     "metadata": {},
     "output_type": "execute_result"
    }
   ],
   "source": [
    "def century(year):\n",
    "    "
   ]
  },
  {
   "cell_type": "code",
   "execution_count": null,
   "metadata": {},
   "outputs": [],
   "source": []
  }
 ],
 "metadata": {
  "interpreter": {
   "hash": "42588fd11209419b7c81abe23e31a1d2101f60811b02170c268e57ebb57d5d9a"
  },
  "kernelspec": {
   "display_name": "Python 3.8.8 64-bit (conda)",
   "name": "python3"
  },
  "language_info": {
   "codemirror_mode": {
    "name": "ipython",
    "version": 3
   },
   "file_extension": ".py",
   "mimetype": "text/x-python",
   "name": "python",
   "nbconvert_exporter": "python",
   "pygments_lexer": "ipython3",
   "version": "3.8.8"
  },
  "orig_nbformat": 4
 },
 "nbformat": 4,
 "nbformat_minor": 2
}
